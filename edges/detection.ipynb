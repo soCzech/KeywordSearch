{
 "cells": [
  {
   "cell_type": "code",
   "execution_count": null,
   "metadata": {},
   "outputs": [],
   "source": [
    "%matplotlib inline\n",
    "import os\n",
    "import cv2\n",
    "import numpy as np\n",
    "from matplotlib import pyplot as plt\n",
    "from sklearn.cluster import KMeans"
   ]
  },
  {
   "cell_type": "code",
   "execution_count": null,
   "metadata": {},
   "outputs": [],
   "source": [
    "images = [os.path.join(\"img\", img) for img in os.listdir(\"img\")]"
   ]
  },
  {
   "cell_type": "code",
   "execution_count": null,
   "metadata": {
    "scrolled": false
   },
   "outputs": [],
   "source": [
    "image = images[7]\n",
    "\n",
    "img = cv2.imread(image)\n",
    "img = cv2.resize(img, (120,90))\n",
    "gray = cv2.cvtColor(img, cv2.COLOR_BGR2GRAY)\n",
    "edges = cv2.Canny(gray, 50, 300)\n",
    "lines = cv2.HoughLines(edges, 2, np.pi/45, 60)\n",
    "\n",
    "plt.figure(figsize=(20,25))\n",
    "\n",
    "plt.subplot(321)\n",
    "plt.imshow(gray, cmap=\"gray\")\n",
    "plt.axis('off')\n",
    "\n",
    "plt.subplot(322)\n",
    "plt.imshow(edges, cmap=\"gray\")\n",
    "plt.axis('off')\n",
    "\n",
    "plt.subplot(323)\n",
    "img2 = np.copy(img)\n",
    "\n",
    "lines = [line[0] for line in lines]\n",
    "for dist, angle in lines:\n",
    "    a = np.cos(angle)\n",
    "    b = np.sin(angle)\n",
    "    x0 = a*dist\n",
    "    y0 = b*dist\n",
    "    x1 = int(x0 + 1000*(-b))\n",
    "    y1 = int(y0 + 1000*a)\n",
    "    x2 = int(x0 - 1000*(-b))\n",
    "    y2 = int(y0 - 1000*a)\n",
    "    cv2.line(img2, (x1,y1), (x2,y2), (255,0,0), 1)\n",
    "plt.imshow(img2)\n",
    "plt.axis('off')\n",
    "\n",
    "kmeans = KMeans(init=\"k-means++\", n_clusters=20)\n",
    "kmeans.fit(lines)\n",
    "lines = kmeans.cluster_centers_\n",
    "\n",
    "plt.subplot(324)\n",
    "img3 = np.copy(img)\n",
    "\n",
    "\n",
    "for dist, angle in lines:\n",
    "    a = np.cos(angle)\n",
    "    b = np.sin(angle)\n",
    "    x0 = a*dist\n",
    "    y0 = b*dist\n",
    "    x1 = int(x0 + 1000*(-b))\n",
    "    y1 = int(y0 + 1000*a)\n",
    "    x2 = int(x0 - 1000*(-b))\n",
    "    y2 = int(y0 - 1000*a)\n",
    "    cv2.line(img3, (x1,y1), (x2,y2), (255,0,0), 1)\n",
    "plt.imshow(img3)\n",
    "plt.axis('off')\n",
    "\n",
    "\n",
    "\n",
    "\n",
    "plt.subplot(325)\n",
    "img4 = np.copy(img)\n",
    "\n",
    "lines = cv2.HoughLinesP(edges, 0.5, np.pi/180, 1, 20, 5)\n",
    "lines = [line[0] for line in lines]\n",
    "for x1,y1,x2,y2 in lines:\n",
    "    cv2.line(img4, (x1,y1), (x2,y2), (255,0,0), 1)\n",
    "plt.imshow(img4)\n",
    "plt.axis('off')\n",
    "\n",
    "\n",
    "\n",
    "plt.show()"
   ]
  }
 ],
 "metadata": {
  "kernelspec": {
   "display_name": "Python 3",
   "language": "python",
   "name": "python3"
  },
  "language_info": {
   "codemirror_mode": {
    "name": "ipython",
    "version": 3
   },
   "file_extension": ".py",
   "mimetype": "text/x-python",
   "name": "python",
   "nbconvert_exporter": "python",
   "pygments_lexer": "ipython3",
   "version": "3.6.5"
  }
 },
 "nbformat": 4,
 "nbformat_minor": 2
}
