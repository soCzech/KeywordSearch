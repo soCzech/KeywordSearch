{
 "cells": [
  {
   "cell_type": "code",
   "execution_count": 1,
   "metadata": {},
   "outputs": [],
   "source": [
    "%matplotlib inline\n",
    "import os\n",
    "import cv2\n",
    "import struct\n",
    "import numpy as np\n",
    "from matplotlib import pyplot as plt"
   ]
  },
  {
   "cell_type": "code",
   "execution_count": 2,
   "metadata": {},
   "outputs": [],
   "source": [
    "def get_images_recursively(directory):\n",
    "    directory = os.path.normpath(directory)\n",
    "    image_id = 0\n",
    "    res = dict()\n",
    "\n",
    "    sorted_list = sorted(os.listdir(directory))\n",
    "\n",
    "    i = 0\n",
    "    for folder in sorted_list:\n",
    "        if os.path.isdir(os.path.join(directory, folder)):\n",
    "            for image in sorted(os.listdir(os.path.join(directory, folder))):\n",
    "                res[image_id] = os.path.join(directory, folder, image)\n",
    "                image_id += 1\n",
    "        i += 1\n",
    "        print(str(i) + \"/\" + str(len(sorted_list)), end=\"\\r\")\n",
    "    return res"
   ]
  },
  {
   "cell_type": "code",
   "execution_count": 3,
   "metadata": {},
   "outputs": [
    {
     "name": "stdout",
     "output_type": "stream",
     "text": [
      "370/370\r"
     ]
    }
   ],
   "source": [
    "images = get_images_recursively(\"C:\\\\Users\\\\Tom\\\\Desktop\\\\images-4fps-selected\\\\images\")"
   ]
  },
  {
   "cell_type": "code",
   "execution_count": 5,
   "metadata": {
    "scrolled": false
   },
   "outputs": [
    {
     "name": "stdout",
     "output_type": "stream",
     "text": [
      "34435/34435\r"
     ]
    }
   ],
   "source": [
    "with open(\"C:\\\\Users\\\\Tom\\\\Desktop\\\\CT24.edges\", \"wb\") as f:\n",
    "    f.write(struct.pack(\"<I\", len(images)))\n",
    "    f.write(struct.pack(\"<I\", 120))\n",
    "    f.write(struct.pack(\"<I\", 90))\n",
    "    \n",
    "    i = 0\n",
    "    for image_id in sorted(images):\n",
    "        image = images[image_id]\n",
    "        \n",
    "        f.write(struct.pack(\"<I\", image_id))\n",
    "\n",
    "        img = cv2.imread(image)\n",
    "        #img = cv2.GaussianBlur(img, (15,15), 0)\n",
    "        img = cv2.resize(img, (120,90))\n",
    "        gray = cv2.cvtColor(img, cv2.COLOR_BGR2GRAY)\n",
    "        edges = cv2.Canny(gray, 50, 300)\n",
    "        \n",
    "        \n",
    "#         lines = cv2.HoughLines(edges, 2, np.pi/90, 60)\n",
    "#         if lines is not None:\n",
    "#             lines = [line[0] for line in lines]\n",
    "#             for dist, angle in lines:\n",
    "#                 a = np.cos(angle)\n",
    "#                 b = np.sin(angle)\n",
    "#                 x0 = a*dist\n",
    "#                 y0 = b*dist\n",
    "#                 x1 = int(x0 + 1000*(-b))\n",
    "#                 y1 = int(y0 + 1000*a)\n",
    "#                 x2 = int(x0 - 1000*(-b))\n",
    "#                 y2 = int(y0 - 1000*a)\n",
    "#                 cv2.line(img, (x1,y1), (x2,y2), (255,0,0), 1)\n",
    "\n",
    "#         lines = cv2.HoughLinesP(edges, 2, np.pi/90, 1, 20, 5)\n",
    "#         if lines is not None:\n",
    "#             lines = [line[0] for line in lines]\n",
    "#             for x1,y1,x2,y2 in lines:\n",
    "#                 cv2.line(img, (x1,y1), (x2,y2), (255,0,0), 1)\n",
    "\n",
    "#         im2, contours, hierarchy = cv2.findContours(edges,cv2.RETR_TREE,cv2.CHAIN_APPROX_SIMPLE)\n",
    "#         img = cv2.drawContours(img, contours, -1, (255,0,0), 1)\n",
    "\n",
    "        ret, markers = cv2.connectedComponents(edges)\n",
    "            \n",
    "        data = struct.pack(\"=\" + \"B\" * (120*90), *np.ndarray.flatten(markers))\n",
    "        f.write(data)\n",
    "\n",
    "#         plt.imshow(markers, cmap='gray')\n",
    "#         plt.axis('off')\n",
    "#         plt.show()\n",
    "        i += 1\n",
    "        print(str(i) + \"/\" + str(len(images)), end=\"\\r\")"
   ]
  },
  {
   "cell_type": "code",
   "execution_count": null,
   "metadata": {},
   "outputs": [],
   "source": []
  }
 ],
 "metadata": {
  "kernelspec": {
   "display_name": "Python 3",
   "language": "python",
   "name": "python3"
  },
  "language_info": {
   "codemirror_mode": {
    "name": "ipython",
    "version": 3
   },
   "file_extension": ".py",
   "mimetype": "text/x-python",
   "name": "python",
   "nbconvert_exporter": "python",
   "pygments_lexer": "ipython3",
   "version": "3.5.2"
  }
 },
 "nbformat": 4,
 "nbformat_minor": 2
}
